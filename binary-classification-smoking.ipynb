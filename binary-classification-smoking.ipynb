{
 "cells": [
  {
   "cell_type": "code",
   "execution_count": 1,
   "id": "4045a07b",
   "metadata": {
    "_cell_guid": "b1076dfc-b9ad-4769-8c92-a6c4dae69d19",
    "_uuid": "8f2839f25d086af736a60e9eeb907d3b93b6e0e5",
    "execution": {
     "iopub.execute_input": "2023-11-17T22:55:12.331877Z",
     "iopub.status.busy": "2023-11-17T22:55:12.330765Z",
     "iopub.status.idle": "2023-11-17T22:55:13.173924Z",
     "shell.execute_reply": "2023-11-17T22:55:13.172791Z"
    },
    "papermill": {
     "duration": 0.852638,
     "end_time": "2023-11-17T22:55:13.176785",
     "exception": false,
     "start_time": "2023-11-17T22:55:12.324147",
     "status": "completed"
    },
    "tags": []
   },
   "outputs": [
    {
     "name": "stdout",
     "output_type": "stream",
     "text": [
      "/kaggle/input/playground-series-s3e24/sample_submission.csv\n",
      "/kaggle/input/playground-series-s3e24/train.csv\n",
      "/kaggle/input/playground-series-s3e24/test.csv\n"
     ]
    }
   ],
   "source": [
    "# This Python 3 environment comes with many helpful analytics libraries installed\n",
    "# It is defined by the kaggle/python Docker image: https://github.com/kaggle/docker-python\n",
    "# For example, here's several helpful packages to load\n",
    "\n",
    "import numpy as np # linear algebra\n",
    "import pandas as pd # data processing, CSV file I/O (e.g. pd.read_csv)\n",
    "\n",
    "# Input data files are available in the read-only \"../input/\" directory\n",
    "# For example, running this (by clicking run or pressing Shift+Enter) will list all files under the input directory\n",
    "\n",
    "import os\n",
    "for dirname, _, filenames in os.walk('/kaggle/input'):\n",
    "    for filename in filenames:\n",
    "        print(os.path.join(dirname, filename))\n",
    "\n",
    "# You can write up to 20GB to the current directory (/kaggle/working/) that gets preserved as output when you create a version using \"Save & Run All\" \n",
    "# You can also write temporary files to /kaggle/temp/, but they won't be saved outside of the current session"
   ]
  },
  {
   "cell_type": "code",
   "execution_count": 2,
   "id": "f9010495",
   "metadata": {
    "execution": {
     "iopub.execute_input": "2023-11-17T22:55:13.188554Z",
     "iopub.status.busy": "2023-11-17T22:55:13.188086Z",
     "iopub.status.idle": "2023-11-17T22:55:14.503737Z",
     "shell.execute_reply": "2023-11-17T22:55:14.502860Z"
    },
    "papermill": {
     "duration": 1.3242,
     "end_time": "2023-11-17T22:55:14.506282",
     "exception": false,
     "start_time": "2023-11-17T22:55:13.182082",
     "status": "completed"
    },
    "tags": []
   },
   "outputs": [],
   "source": [
    "import pandas as pd\n",
    "import numpy as np\n",
    "import matplotlib.pyplot as plt\n",
    "import seaborn as sns\n",
    "\n"
   ]
  },
  {
   "cell_type": "code",
   "execution_count": 3,
   "id": "241d666c",
   "metadata": {
    "execution": {
     "iopub.execute_input": "2023-11-17T22:55:14.517656Z",
     "iopub.status.busy": "2023-11-17T22:55:14.517084Z",
     "iopub.status.idle": "2023-11-17T22:55:15.426200Z",
     "shell.execute_reply": "2023-11-17T22:55:15.425247Z"
    },
    "papermill": {
     "duration": 0.917749,
     "end_time": "2023-11-17T22:55:15.428877",
     "exception": false,
     "start_time": "2023-11-17T22:55:14.511128",
     "status": "completed"
    },
    "tags": []
   },
   "outputs": [],
   "source": [
    "train = pd.read_csv(\"/kaggle/input/playground-series-s3e24/train.csv\")\n",
    "test = pd.read_csv(\"/kaggle/input/playground-series-s3e24/test.csv\")"
   ]
  },
  {
   "cell_type": "code",
   "execution_count": 4,
   "id": "0a415ef1",
   "metadata": {
    "execution": {
     "iopub.execute_input": "2023-11-17T22:55:15.442631Z",
     "iopub.status.busy": "2023-11-17T22:55:15.442274Z",
     "iopub.status.idle": "2023-11-17T22:55:15.449279Z",
     "shell.execute_reply": "2023-11-17T22:55:15.448497Z"
    },
    "papermill": {
     "duration": 0.015792,
     "end_time": "2023-11-17T22:55:15.451418",
     "exception": false,
     "start_time": "2023-11-17T22:55:15.435626",
     "status": "completed"
    },
    "tags": []
   },
   "outputs": [
    {
     "data": {
      "text/plain": [
       "((159256, 24), (106171, 23))"
      ]
     },
     "execution_count": 4,
     "metadata": {},
     "output_type": "execute_result"
    }
   ],
   "source": [
    "train.shape, test.shape"
   ]
  },
  {
   "cell_type": "code",
   "execution_count": 5,
   "id": "81948c8a",
   "metadata": {
    "execution": {
     "iopub.execute_input": "2023-11-17T22:55:15.461961Z",
     "iopub.status.busy": "2023-11-17T22:55:15.461651Z",
     "iopub.status.idle": "2023-11-17T22:55:15.466382Z",
     "shell.execute_reply": "2023-11-17T22:55:15.465489Z"
    },
    "papermill": {
     "duration": 0.012477,
     "end_time": "2023-11-17T22:55:15.468565",
     "exception": false,
     "start_time": "2023-11-17T22:55:15.456088",
     "status": "completed"
    },
    "tags": []
   },
   "outputs": [],
   "source": [
    "pd.set_option('display.max_columns', 25)"
   ]
  },
  {
   "cell_type": "code",
   "execution_count": 6,
   "id": "45dfbbcc",
   "metadata": {
    "execution": {
     "iopub.execute_input": "2023-11-17T22:55:15.479304Z",
     "iopub.status.busy": "2023-11-17T22:55:15.479000Z",
     "iopub.status.idle": "2023-11-17T22:55:15.511086Z",
     "shell.execute_reply": "2023-11-17T22:55:15.510000Z"
    },
    "papermill": {
     "duration": 0.040008,
     "end_time": "2023-11-17T22:55:15.513261",
     "exception": false,
     "start_time": "2023-11-17T22:55:15.473253",
     "status": "completed"
    },
    "tags": []
   },
   "outputs": [
    {
     "data": {
      "text/html": [
       "<div>\n",
       "<style scoped>\n",
       "    .dataframe tbody tr th:only-of-type {\n",
       "        vertical-align: middle;\n",
       "    }\n",
       "\n",
       "    .dataframe tbody tr th {\n",
       "        vertical-align: top;\n",
       "    }\n",
       "\n",
       "    .dataframe thead th {\n",
       "        text-align: right;\n",
       "    }\n",
       "</style>\n",
       "<table border=\"1\" class=\"dataframe\">\n",
       "  <thead>\n",
       "    <tr style=\"text-align: right;\">\n",
       "      <th></th>\n",
       "      <th>id</th>\n",
       "      <th>age</th>\n",
       "      <th>height(cm)</th>\n",
       "      <th>weight(kg)</th>\n",
       "      <th>waist(cm)</th>\n",
       "      <th>eyesight(left)</th>\n",
       "      <th>eyesight(right)</th>\n",
       "      <th>hearing(left)</th>\n",
       "      <th>hearing(right)</th>\n",
       "      <th>systolic</th>\n",
       "      <th>relaxation</th>\n",
       "      <th>fasting blood sugar</th>\n",
       "      <th>Cholesterol</th>\n",
       "      <th>triglyceride</th>\n",
       "      <th>HDL</th>\n",
       "      <th>LDL</th>\n",
       "      <th>hemoglobin</th>\n",
       "      <th>Urine protein</th>\n",
       "      <th>serum creatinine</th>\n",
       "      <th>AST</th>\n",
       "      <th>ALT</th>\n",
       "      <th>Gtp</th>\n",
       "      <th>dental caries</th>\n",
       "      <th>smoking</th>\n",
       "    </tr>\n",
       "  </thead>\n",
       "  <tbody>\n",
       "    <tr>\n",
       "      <th>0</th>\n",
       "      <td>0</td>\n",
       "      <td>55</td>\n",
       "      <td>165</td>\n",
       "      <td>60</td>\n",
       "      <td>81.0</td>\n",
       "      <td>0.5</td>\n",
       "      <td>0.6</td>\n",
       "      <td>1</td>\n",
       "      <td>1</td>\n",
       "      <td>135</td>\n",
       "      <td>87</td>\n",
       "      <td>94</td>\n",
       "      <td>172</td>\n",
       "      <td>300</td>\n",
       "      <td>40</td>\n",
       "      <td>75</td>\n",
       "      <td>16.5</td>\n",
       "      <td>1</td>\n",
       "      <td>1.0</td>\n",
       "      <td>22</td>\n",
       "      <td>25</td>\n",
       "      <td>27</td>\n",
       "      <td>0</td>\n",
       "      <td>1</td>\n",
       "    </tr>\n",
       "    <tr>\n",
       "      <th>1</th>\n",
       "      <td>1</td>\n",
       "      <td>70</td>\n",
       "      <td>165</td>\n",
       "      <td>65</td>\n",
       "      <td>89.0</td>\n",
       "      <td>0.6</td>\n",
       "      <td>0.7</td>\n",
       "      <td>2</td>\n",
       "      <td>2</td>\n",
       "      <td>146</td>\n",
       "      <td>83</td>\n",
       "      <td>147</td>\n",
       "      <td>194</td>\n",
       "      <td>55</td>\n",
       "      <td>57</td>\n",
       "      <td>126</td>\n",
       "      <td>16.2</td>\n",
       "      <td>1</td>\n",
       "      <td>1.1</td>\n",
       "      <td>27</td>\n",
       "      <td>23</td>\n",
       "      <td>37</td>\n",
       "      <td>1</td>\n",
       "      <td>0</td>\n",
       "    </tr>\n",
       "    <tr>\n",
       "      <th>2</th>\n",
       "      <td>2</td>\n",
       "      <td>20</td>\n",
       "      <td>170</td>\n",
       "      <td>75</td>\n",
       "      <td>81.0</td>\n",
       "      <td>0.4</td>\n",
       "      <td>0.5</td>\n",
       "      <td>1</td>\n",
       "      <td>1</td>\n",
       "      <td>118</td>\n",
       "      <td>75</td>\n",
       "      <td>79</td>\n",
       "      <td>178</td>\n",
       "      <td>197</td>\n",
       "      <td>45</td>\n",
       "      <td>93</td>\n",
       "      <td>17.4</td>\n",
       "      <td>1</td>\n",
       "      <td>0.8</td>\n",
       "      <td>27</td>\n",
       "      <td>31</td>\n",
       "      <td>53</td>\n",
       "      <td>0</td>\n",
       "      <td>1</td>\n",
       "    </tr>\n",
       "    <tr>\n",
       "      <th>3</th>\n",
       "      <td>3</td>\n",
       "      <td>35</td>\n",
       "      <td>180</td>\n",
       "      <td>95</td>\n",
       "      <td>105.0</td>\n",
       "      <td>1.5</td>\n",
       "      <td>1.2</td>\n",
       "      <td>1</td>\n",
       "      <td>1</td>\n",
       "      <td>131</td>\n",
       "      <td>88</td>\n",
       "      <td>91</td>\n",
       "      <td>180</td>\n",
       "      <td>203</td>\n",
       "      <td>38</td>\n",
       "      <td>102</td>\n",
       "      <td>15.9</td>\n",
       "      <td>1</td>\n",
       "      <td>1.0</td>\n",
       "      <td>20</td>\n",
       "      <td>27</td>\n",
       "      <td>30</td>\n",
       "      <td>1</td>\n",
       "      <td>0</td>\n",
       "    </tr>\n",
       "    <tr>\n",
       "      <th>4</th>\n",
       "      <td>4</td>\n",
       "      <td>30</td>\n",
       "      <td>165</td>\n",
       "      <td>60</td>\n",
       "      <td>80.5</td>\n",
       "      <td>1.5</td>\n",
       "      <td>1.0</td>\n",
       "      <td>1</td>\n",
       "      <td>1</td>\n",
       "      <td>121</td>\n",
       "      <td>76</td>\n",
       "      <td>91</td>\n",
       "      <td>155</td>\n",
       "      <td>87</td>\n",
       "      <td>44</td>\n",
       "      <td>93</td>\n",
       "      <td>15.4</td>\n",
       "      <td>1</td>\n",
       "      <td>0.8</td>\n",
       "      <td>19</td>\n",
       "      <td>13</td>\n",
       "      <td>17</td>\n",
       "      <td>0</td>\n",
       "      <td>1</td>\n",
       "    </tr>\n",
       "  </tbody>\n",
       "</table>\n",
       "</div>"
      ],
      "text/plain": [
       "   id  age  height(cm)  weight(kg)  waist(cm)  eyesight(left)  \\\n",
       "0   0   55         165          60       81.0             0.5   \n",
       "1   1   70         165          65       89.0             0.6   \n",
       "2   2   20         170          75       81.0             0.4   \n",
       "3   3   35         180          95      105.0             1.5   \n",
       "4   4   30         165          60       80.5             1.5   \n",
       "\n",
       "   eyesight(right)  hearing(left)  hearing(right)  systolic  relaxation  \\\n",
       "0              0.6              1               1       135          87   \n",
       "1              0.7              2               2       146          83   \n",
       "2              0.5              1               1       118          75   \n",
       "3              1.2              1               1       131          88   \n",
       "4              1.0              1               1       121          76   \n",
       "\n",
       "   fasting blood sugar  Cholesterol  triglyceride  HDL  LDL  hemoglobin  \\\n",
       "0                   94          172           300   40   75        16.5   \n",
       "1                  147          194            55   57  126        16.2   \n",
       "2                   79          178           197   45   93        17.4   \n",
       "3                   91          180           203   38  102        15.9   \n",
       "4                   91          155            87   44   93        15.4   \n",
       "\n",
       "   Urine protein  serum creatinine  AST  ALT  Gtp  dental caries  smoking  \n",
       "0              1               1.0   22   25   27              0        1  \n",
       "1              1               1.1   27   23   37              1        0  \n",
       "2              1               0.8   27   31   53              0        1  \n",
       "3              1               1.0   20   27   30              1        0  \n",
       "4              1               0.8   19   13   17              0        1  "
      ]
     },
     "execution_count": 6,
     "metadata": {},
     "output_type": "execute_result"
    }
   ],
   "source": [
    "train.head()"
   ]
  },
  {
   "cell_type": "code",
   "execution_count": 7,
   "id": "25348a3f",
   "metadata": {
    "execution": {
     "iopub.execute_input": "2023-11-17T22:55:15.525840Z",
     "iopub.status.busy": "2023-11-17T22:55:15.525138Z",
     "iopub.status.idle": "2023-11-17T22:55:15.539299Z",
     "shell.execute_reply": "2023-11-17T22:55:15.538448Z"
    },
    "papermill": {
     "duration": 0.022813,
     "end_time": "2023-11-17T22:55:15.541609",
     "exception": false,
     "start_time": "2023-11-17T22:55:15.518796",
     "status": "completed"
    },
    "tags": []
   },
   "outputs": [
    {
     "data": {
      "text/plain": [
       "id                     0\n",
       "age                    0\n",
       "height(cm)             0\n",
       "weight(kg)             0\n",
       "waist(cm)              0\n",
       "eyesight(left)         0\n",
       "eyesight(right)        0\n",
       "hearing(left)          0\n",
       "hearing(right)         0\n",
       "systolic               0\n",
       "relaxation             0\n",
       "fasting blood sugar    0\n",
       "Cholesterol            0\n",
       "triglyceride           0\n",
       "HDL                    0\n",
       "LDL                    0\n",
       "hemoglobin             0\n",
       "Urine protein          0\n",
       "serum creatinine       0\n",
       "AST                    0\n",
       "ALT                    0\n",
       "Gtp                    0\n",
       "dental caries          0\n",
       "smoking                0\n",
       "dtype: int64"
      ]
     },
     "execution_count": 7,
     "metadata": {},
     "output_type": "execute_result"
    }
   ],
   "source": [
    "train.isna().sum()"
   ]
  },
  {
   "cell_type": "code",
   "execution_count": 8,
   "id": "788800d9",
   "metadata": {
    "execution": {
     "iopub.execute_input": "2023-11-17T22:55:15.553834Z",
     "iopub.status.busy": "2023-11-17T22:55:15.553473Z",
     "iopub.status.idle": "2023-11-17T22:55:15.563139Z",
     "shell.execute_reply": "2023-11-17T22:55:15.562137Z"
    },
    "papermill": {
     "duration": 0.018167,
     "end_time": "2023-11-17T22:55:15.565249",
     "exception": false,
     "start_time": "2023-11-17T22:55:15.547082",
     "status": "completed"
    },
    "tags": []
   },
   "outputs": [
    {
     "data": {
      "text/plain": [
       "id                     0\n",
       "age                    0\n",
       "height(cm)             0\n",
       "weight(kg)             0\n",
       "waist(cm)              0\n",
       "eyesight(left)         0\n",
       "eyesight(right)        0\n",
       "hearing(left)          0\n",
       "hearing(right)         0\n",
       "systolic               0\n",
       "relaxation             0\n",
       "fasting blood sugar    0\n",
       "Cholesterol            0\n",
       "triglyceride           0\n",
       "HDL                    0\n",
       "LDL                    0\n",
       "hemoglobin             0\n",
       "Urine protein          0\n",
       "serum creatinine       0\n",
       "AST                    0\n",
       "ALT                    0\n",
       "Gtp                    0\n",
       "dental caries          0\n",
       "dtype: int64"
      ]
     },
     "execution_count": 8,
     "metadata": {},
     "output_type": "execute_result"
    }
   ],
   "source": [
    "test.isna().sum()"
   ]
  },
  {
   "cell_type": "code",
   "execution_count": 9,
   "id": "4a1ceabc",
   "metadata": {
    "execution": {
     "iopub.execute_input": "2023-11-17T22:55:15.578470Z",
     "iopub.status.busy": "2023-11-17T22:55:15.577417Z",
     "iopub.status.idle": "2023-11-17T22:55:15.610393Z",
     "shell.execute_reply": "2023-11-17T22:55:15.609167Z"
    },
    "papermill": {
     "duration": 0.041754,
     "end_time": "2023-11-17T22:55:15.612591",
     "exception": false,
     "start_time": "2023-11-17T22:55:15.570837",
     "status": "completed"
    },
    "tags": []
   },
   "outputs": [
    {
     "name": "stdout",
     "output_type": "stream",
     "text": [
      "<class 'pandas.core.frame.DataFrame'>\n",
      "RangeIndex: 159256 entries, 0 to 159255\n",
      "Data columns (total 24 columns):\n",
      " #   Column               Non-Null Count   Dtype  \n",
      "---  ------               --------------   -----  \n",
      " 0   id                   159256 non-null  int64  \n",
      " 1   age                  159256 non-null  int64  \n",
      " 2   height(cm)           159256 non-null  int64  \n",
      " 3   weight(kg)           159256 non-null  int64  \n",
      " 4   waist(cm)            159256 non-null  float64\n",
      " 5   eyesight(left)       159256 non-null  float64\n",
      " 6   eyesight(right)      159256 non-null  float64\n",
      " 7   hearing(left)        159256 non-null  int64  \n",
      " 8   hearing(right)       159256 non-null  int64  \n",
      " 9   systolic             159256 non-null  int64  \n",
      " 10  relaxation           159256 non-null  int64  \n",
      " 11  fasting blood sugar  159256 non-null  int64  \n",
      " 12  Cholesterol          159256 non-null  int64  \n",
      " 13  triglyceride         159256 non-null  int64  \n",
      " 14  HDL                  159256 non-null  int64  \n",
      " 15  LDL                  159256 non-null  int64  \n",
      " 16  hemoglobin           159256 non-null  float64\n",
      " 17  Urine protein        159256 non-null  int64  \n",
      " 18  serum creatinine     159256 non-null  float64\n",
      " 19  AST                  159256 non-null  int64  \n",
      " 20  ALT                  159256 non-null  int64  \n",
      " 21  Gtp                  159256 non-null  int64  \n",
      " 22  dental caries        159256 non-null  int64  \n",
      " 23  smoking              159256 non-null  int64  \n",
      "dtypes: float64(5), int64(19)\n",
      "memory usage: 29.2 MB\n"
     ]
    }
   ],
   "source": [
    "train.info()"
   ]
  },
  {
   "cell_type": "code",
   "execution_count": 10,
   "id": "64af7a0c",
   "metadata": {
    "execution": {
     "iopub.execute_input": "2023-11-17T22:55:15.626316Z",
     "iopub.status.busy": "2023-11-17T22:55:15.625241Z",
     "iopub.status.idle": "2023-11-17T22:55:15.643583Z",
     "shell.execute_reply": "2023-11-17T22:55:15.641924Z"
    },
    "papermill": {
     "duration": 0.027297,
     "end_time": "2023-11-17T22:55:15.645830",
     "exception": false,
     "start_time": "2023-11-17T22:55:15.618533",
     "status": "completed"
    },
    "tags": []
   },
   "outputs": [
    {
     "name": "stdout",
     "output_type": "stream",
     "text": [
      "<class 'pandas.core.frame.DataFrame'>\n",
      "RangeIndex: 106171 entries, 0 to 106170\n",
      "Data columns (total 23 columns):\n",
      " #   Column               Non-Null Count   Dtype  \n",
      "---  ------               --------------   -----  \n",
      " 0   id                   106171 non-null  int64  \n",
      " 1   age                  106171 non-null  int64  \n",
      " 2   height(cm)           106171 non-null  int64  \n",
      " 3   weight(kg)           106171 non-null  int64  \n",
      " 4   waist(cm)            106171 non-null  float64\n",
      " 5   eyesight(left)       106171 non-null  float64\n",
      " 6   eyesight(right)      106171 non-null  float64\n",
      " 7   hearing(left)        106171 non-null  int64  \n",
      " 8   hearing(right)       106171 non-null  int64  \n",
      " 9   systolic             106171 non-null  int64  \n",
      " 10  relaxation           106171 non-null  int64  \n",
      " 11  fasting blood sugar  106171 non-null  int64  \n",
      " 12  Cholesterol          106171 non-null  int64  \n",
      " 13  triglyceride         106171 non-null  int64  \n",
      " 14  HDL                  106171 non-null  int64  \n",
      " 15  LDL                  106171 non-null  int64  \n",
      " 16  hemoglobin           106171 non-null  float64\n",
      " 17  Urine protein        106171 non-null  int64  \n",
      " 18  serum creatinine     106171 non-null  float64\n",
      " 19  AST                  106171 non-null  int64  \n",
      " 20  ALT                  106171 non-null  int64  \n",
      " 21  Gtp                  106171 non-null  int64  \n",
      " 22  dental caries        106171 non-null  int64  \n",
      "dtypes: float64(5), int64(18)\n",
      "memory usage: 18.6 MB\n"
     ]
    }
   ],
   "source": [
    "test.info()"
   ]
  },
  {
   "cell_type": "code",
   "execution_count": 11,
   "id": "32b5b5d1",
   "metadata": {
    "execution": {
     "iopub.execute_input": "2023-11-17T22:55:15.659300Z",
     "iopub.status.busy": "2023-11-17T22:55:15.658373Z",
     "iopub.status.idle": "2023-11-17T23:00:30.320373Z",
     "shell.execute_reply": "2023-11-17T23:00:30.319108Z"
    },
    "papermill": {
     "duration": 314.671768,
     "end_time": "2023-11-17T23:00:30.323369",
     "exception": false,
     "start_time": "2023-11-17T22:55:15.651601",
     "status": "completed"
    },
    "tags": []
   },
   "outputs": [],
   "source": [
    "X = train.drop(columns = ['smoking', 'id'])\n",
    "y = train['smoking']\n",
    "\n",
    "from sklearn.ensemble import RandomForestClassifier\n",
    "model = RandomForestClassifier(n_estimators = 600)\n",
    "model.fit(X,y)\n",
    "\n",
    "predictions = model.predict(test.drop('id', axis=1))\n",
    "\n",
    "predictions = pd.DataFrame({'smoking': predictions})\n",
    "ss = pd.concat([test.id, predictions], axis=1)\n",
    "ss.to_csv('submission.csv', index=False)"
   ]
  },
  {
   "cell_type": "code",
   "execution_count": null,
   "id": "dfafb90d",
   "metadata": {
    "papermill": {
     "duration": 0.005801,
     "end_time": "2023-11-17T23:00:30.335788",
     "exception": false,
     "start_time": "2023-11-17T23:00:30.329987",
     "status": "completed"
    },
    "tags": []
   },
   "outputs": [],
   "source": [
    "\n"
   ]
  }
 ],
 "metadata": {
  "kaggle": {
   "accelerator": "none",
   "dataSources": [
    {
     "databundleVersionId": 6622892,
     "sourceId": 60891,
     "sourceType": "competition"
    }
   ],
   "dockerImageVersionId": 30579,
   "isGpuEnabled": false,
   "isInternetEnabled": true,
   "language": "python",
   "sourceType": "notebook"
  },
  "kernelspec": {
   "display_name": "Python 3",
   "language": "python",
   "name": "python3"
  },
  "language_info": {
   "codemirror_mode": {
    "name": "ipython",
    "version": 3
   },
   "file_extension": ".py",
   "mimetype": "text/x-python",
   "name": "python",
   "nbconvert_exporter": "python",
   "pygments_lexer": "ipython3",
   "version": "3.10.12"
  },
  "papermill": {
   "default_parameters": {},
   "duration": 322.885995,
   "end_time": "2023-11-17T23:00:31.065324",
   "environment_variables": {},
   "exception": null,
   "input_path": "__notebook__.ipynb",
   "output_path": "__notebook__.ipynb",
   "parameters": {},
   "start_time": "2023-11-17T22:55:08.179329",
   "version": "2.4.0"
  }
 },
 "nbformat": 4,
 "nbformat_minor": 5
}
